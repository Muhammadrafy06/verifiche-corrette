{
  "nbformat": 4,
  "nbformat_minor": 0,
  "metadata": {
    "colab": {
      "private_outputs": true,
      "provenance": [],
      "include_colab_link": true
    },
    "kernelspec": {
      "name": "python3",
      "display_name": "Python 3"
    },
    "language_info": {
      "name": "python"
    }
  },
  "cells": [
    {
      "cell_type": "markdown",
      "metadata": {
        "id": "view-in-github",
        "colab_type": "text"
      },
      "source": [
        "<a href=\"https://colab.research.google.com/github/Muhammadrafy06/python/blob/main/matPlotLibEsercitazioneCorretta.ipynb\" target=\"_parent\"><img src=\"https://colab.research.google.com/assets/colab-badge.svg\" alt=\"Open In Colab\"/></a>"
      ]
    },
    {
      "cell_type": "code",
      "execution_count": null,
      "metadata": {
        "id": "GNyXxqikDtpR"
      },
      "outputs": [],
      "source": [
        "import pandas as pd\n",
        "from google.colab import drive\n",
        "drive.mount('/content/drive')"
      ]
    },
    {
      "cell_type": "code",
      "source": [
        "df = pd.read_csv(\"https://raw.githubusercontent.com/pcm-dpc/COVID-19/master/dati-province/dpc-covid19-ita-province-20221119.csv\")\n",
        "df"
      ],
      "metadata": {
        "id": "VcFXaQJhEZln"
      },
      "execution_count": null,
      "outputs": []
    },
    {
      "cell_type": "markdown",
      "source": [
        "1. il numero di casi totali in Lombardia\n"
      ],
      "metadata": {
        "id": "8nrfO8RHEktz"
      }
    },
    {
      "cell_type": "code",
      "source": [
        "df[df[\"denominazione_regione\"] == \"Lombardia\"].sum()[\"totale_casi\"]\n"
      ],
      "metadata": {
        "id": "BQWf2knkEl0-"
      },
      "execution_count": null,
      "outputs": []
    },
    {
      "cell_type": "markdown",
      "source": [
        "2. il numero di casi totali in ogni regione. Ordinare in ordine decrescente in base al numero di casi\n"
      ],
      "metadata": {
        "id": "hBzoIKAoF8zt"
      }
    },
    {
      "cell_type": "code",
      "source": [
        "df.groupby(\"denominazione_regione\")[[\"totale_casi\"]].sum().sort_values(by=[\"totale_casi\"], ascending = False)"
      ],
      "metadata": {
        "id": "gY7I67e-F-M7"
      },
      "execution_count": null,
      "outputs": []
    },
    {
      "cell_type": "markdown",
      "source": [
        "3. le regioni che hanno più di un milione di casi\n"
      ],
      "metadata": {
        "id": "Foy2heGwGtd0"
      }
    },
    {
      "cell_type": "code",
      "source": [
        "df[df[\"totale_casi\"] > 1000000][[\"denominazione_regione\"]]"
      ],
      "metadata": {
        "id": "SsSn4td6Gurb"
      },
      "execution_count": null,
      "outputs": []
    },
    {
      "cell_type": "markdown",
      "source": [
        "4. il numero di casi in Italia\n"
      ],
      "metadata": {
        "id": "L7CKYWJKG5_A"
      }
    },
    {
      "cell_type": "code",
      "source": [
        "totaleCasiItalia = df[\"totale_casi\"].sum()\n",
        "totaleCasiItalia"
      ],
      "metadata": {
        "id": "s4nh4X4bG7U8"
      },
      "execution_count": null,
      "outputs": []
    },
    {
      "cell_type": "markdown",
      "source": [
        "5. la percentuale di casi in ogni regione rispetto al totale dei casi in \n",
        "italiana\n"
      ],
      "metadata": {
        "id": "n9oul6hXHoyU"
      }
    },
    {
      "cell_type": "code",
      "source": [
        "df2 = df.groupby(by=\"denominazione_regione\", dropna=False).sum()\n",
        "df2[\"totale_casi\"] / totaleCasiItalia * 100"
      ],
      "metadata": {
        "id": "5fGCYqseHrb4"
      },
      "execution_count": null,
      "outputs": []
    },
    {
      "cell_type": "markdown",
      "source": [
        "1. un grafico a barre verticali per la richiesta numero 2\n"
      ],
      "metadata": {
        "id": "AF9j6BgbJwor"
      }
    },
    {
      "cell_type": "code",
      "source": [
        "dfDati = df.groupby(\"denominazione_regione\")[[\"totale_casi\"]].sum().sort_values(by=[\"totale_casi\"], ascending = False).reset_index()#fix key error with reset index for next excercise\n",
        "dfDati"
      ],
      "metadata": {
        "id": "ZXRaR-Zffsjc"
      },
      "execution_count": null,
      "outputs": []
    },
    {
      "cell_type": "code",
      "source": [
        "from matplotlib import pyplot as plt\n",
        "from collections import Counter\n",
        "import numpy as np\n",
        "\n",
        "\n",
        "labelsRegioni = dfDati[\"denominazione_regione\"]\n",
        "dati = dfDati[\"totale_casi\"]\n",
        "\n",
        "fig, ax = plt.subplots(figsize=(15,8))\n",
        "ax.bar(labelsRegioni, dati, label='totale vaccinati in ogni regione')\n",
        "plt.setp(ax.get_xticklabels(), rotation=90, horizontalalignment='right')\n",
        "#plt.xticks(rotation=90) another way to rotate text on x axis"
      ],
      "metadata": {
        "id": "YNjAqMjYJ5OE"
      },
      "execution_count": null,
      "outputs": []
    },
    {
      "cell_type": "markdown",
      "source": [
        "2. un grafico a barre orizzontali per la richiesta numero 2\n"
      ],
      "metadata": {
        "id": "VAEkJO_-Ml5V"
      }
    },
    {
      "cell_type": "code",
      "source": [
        "fig, ax = plt.subplots(figsize=(15,8))\n",
        "ax.barh(labelsRegioni, dati, label='totale vaccinati in ogni regione')"
      ],
      "metadata": {
        "id": "zPVCHEXQMmQ6"
      },
      "execution_count": null,
      "outputs": []
    },
    {
      "cell_type": "markdown",
      "source": [
        "3. un grafico a torta per la richiesta numero 5"
      ],
      "metadata": {
        "id": "dytws3SpM-BL"
      }
    },
    {
      "cell_type": "code",
      "source": [
        "\n",
        "labelsRegioni = dfDati[\"denominazione_regione\"].head(10)#get first 10, or use slicing to be more precise on the amount\n",
        "dati = dfDati[\"totale_casi\"].head(10)#get first 10\n",
        "plt.figure(figsize=(15, 8))\n",
        "plt.pie(dati, labels=labelsRegioni, autopct='%1.1f%%')\n",
        "plt.show()"
      ],
      "metadata": {
        "id": "1VmdvsDxM_yy"
      },
      "execution_count": null,
      "outputs": []
    }
  ]
}