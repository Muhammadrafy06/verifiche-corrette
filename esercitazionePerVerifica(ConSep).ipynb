{
  "nbformat": 4,
  "nbformat_minor": 0,
  "metadata": {
    "colab": {
      "private_outputs": true,
      "provenance": [],
      "authorship_tag": "ABX9TyNYJJ4BsFC/GQtGCKK2PjEa",
      "include_colab_link": true
    },
    "kernelspec": {
      "name": "python3",
      "display_name": "Python 3"
    },
    "language_info": {
      "name": "python"
    }
  },
  "cells": [
    {
      "cell_type": "markdown",
      "metadata": {
        "id": "view-in-github",
        "colab_type": "text"
      },
      "source": [
        "<a href=\"https://colab.research.google.com/github/Muhammadrafy06/python/blob/main/esercitazionePerVerifica(ConSep).ipynb\" target=\"_parent\"><img src=\"https://colab.research.google.com/assets/colab-badge.svg\" alt=\"Open In Colab\"/></a>"
      ]
    },
    {
      "cell_type": "code",
      "execution_count": null,
      "metadata": {
        "id": "9oONiqUOCWrq"
      },
      "outputs": [],
      "source": [
        "import pandas as pd\n",
        "from google.colab import drive\n",
        "drive.mount('/content/drive')\n",
        "\n",
        "df = pd.read_csv('/content/drive/MyDrive/Colab Notebooks/MUHAMMAD ABDUL - titanic.csv', sep=\";\")\n",
        "df.head()"
      ]
    },
    {
      "cell_type": "code",
      "source": [
        "len(df)"
      ],
      "metadata": {
        "id": "RHLE4A7UDjxZ"
      },
      "execution_count": null,
      "outputs": []
    },
    {
      "cell_type": "code",
      "source": [
        "len(df[df[\"Survived\"] == 1])"
      ],
      "metadata": {
        "id": "cwz6gZnaHOJw"
      },
      "execution_count": null,
      "outputs": []
    },
    {
      "cell_type": "code",
      "source": [
        "len(df[(df[\"Survived\"] == 1) & (df[\"Sex\"] == \"male\")])"
      ],
      "metadata": {
        "id": "83PmIYsYHlE-"
      },
      "execution_count": null,
      "outputs": []
    },
    {
      "cell_type": "code",
      "source": [
        "print(len(df[(df[\"Survived\"] == 1) & (df[\"Sex\"] == \"male\")]))\n",
        "print(len(df[(df[\"Survived\"] == 1) & (df[\"Sex\"] == \"female\")]))"
      ],
      "metadata": {
        "id": "PzIu4DyAH9TX"
      },
      "execution_count": null,
      "outputs": []
    },
    {
      "cell_type": "code",
      "source": [
        "  percentualeMaschi = len(df[(df[\"Survived\"] == 1) & (df[\"Sex\"] == \"male\")]) / len(df[df[\"Survived\"] == 1]) * 100\n",
        "  print(\"maschi\",percentualeMaschi)\n",
        "  percentualeFemmine = len(df[(df[\"Survived\"] == 1) & (df[\"Sex\"] == \"female\")]) / len(df[df[\"Survived\"] == 1]) * 100\n",
        "  print(\"femmine\",percentualeFemmine)"
      ],
      "metadata": {
        "id": "G_W_OmZpI0jK"
      },
      "execution_count": null,
      "outputs": []
    },
    {
      "cell_type": "code",
      "source": [
        "df[df[\"Name\"].str.contains(\"William\")][\"Name\"]"
      ],
      "metadata": {
        "id": "Kt8GpOq8JtrH"
      },
      "execution_count": null,
      "outputs": []
    },
    {
      "cell_type": "code",
      "source": [
        "df[~df[\"Name\"].str.contains(\"William\")][\"Name\"]"
      ],
      "metadata": {
        "id": "N40nKgn4LAY-"
      },
      "execution_count": null,
      "outputs": []
    },
    {
      "cell_type": "code",
      "source": [
        "len(df[(df[\"Age\"] >= 20) & (df[\"Age\"] <= 30)])"
      ],
      "metadata": {
        "id": "P4-woDbZLVZu"
      },
      "execution_count": null,
      "outputs": []
    },
    {
      "cell_type": "code",
      "source": [
        "df[df[\"Survived\"] == 1][\"Age\"].mean()"
      ],
      "metadata": {
        "id": "Eh1_GWPhLqwY"
      },
      "execution_count": null,
      "outputs": []
    },
    {
      "cell_type": "code",
      "source": [
        "df[df[\"Cabin\"].isnull()][\"Name\"]"
      ],
      "metadata": {
        "id": "Rf7quKJcME-j"
      },
      "execution_count": null,
      "outputs": []
    }
  ]
}