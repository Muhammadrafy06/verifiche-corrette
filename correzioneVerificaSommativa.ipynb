{
  "nbformat": 4,
  "nbformat_minor": 0,
  "metadata": {
    "colab": {
      "private_outputs": true,
      "provenance": [],
      "authorship_tag": "ABX9TyN6Ly0n/Y5fNHK+1EJe3OU/",
      "include_colab_link": true
    },
    "kernelspec": {
      "name": "python3",
      "display_name": "Python 3"
    },
    "language_info": {
      "name": "python"
    }
  },
  "cells": [
    {
      "cell_type": "markdown",
      "metadata": {
        "id": "view-in-github",
        "colab_type": "text"
      },
      "source": [
        "<a href=\"https://colab.research.google.com/github/Muhammadrafy06/verifiche-corrette/blob/main/correzioneVerificaSommativa.ipynb\" target=\"_parent\"><img src=\"https://colab.research.google.com/assets/colab-badge.svg\" alt=\"Open In Colab\"/></a>"
      ]
    },
    {
      "cell_type": "code",
      "execution_count": null,
      "metadata": {
        "id": "EGch6vQQCFLU"
      },
      "outputs": [],
      "source": [
        "cassaComune = {\n",
        "    \"Aldo\":[10,20,40,100,5],\n",
        "    \"Gianni\":[50,50,25,30],\n",
        "    \"Andrea\":[200,150],\n",
        "    \"Miki\":[5,5,10,15,5,5,10,5,20]\n",
        "}\n"
      ]
    },
    {
      "cell_type": "code",
      "source": [
        "#1 \n",
        "for i in cassaComune:\n",
        "    print(i, cassaComune[i][-2:len(cassaComune[i])])"
      ],
      "metadata": {
        "id": "u2rRLkqgCbEh"
      },
      "execution_count": null,
      "outputs": []
    },
    {
      "cell_type": "code",
      "source": [
        "#2\n",
        "for i in cassaComune:\n",
        "  print(i, sum(cassaComune[i]))"
      ],
      "metadata": {
        "id": "96uBeLPlDS9R"
      },
      "execution_count": null,
      "outputs": []
    },
    {
      "cell_type": "code",
      "source": [
        "#3\n",
        "#valMass = max(cassaComune, key=cassaComune.get) \n",
        "#print(valMass)\n",
        "  \n",
        "lista=[]\n",
        "for amico,versamenti in cassaComune.items():\n",
        "   lista.append(sum(versamenti)) \n",
        "\n",
        "massimo = max(lista)\n",
        "\n",
        "for amico,versamenti in cassaComune.items():\n",
        "  if sum(versamenti) == massimo:\n",
        "    print(amico)\n"
      ],
      "metadata": {
        "id": "ru0JdkwrDpi5"
      },
      "execution_count": null,
      "outputs": []
    },
    {
      "cell_type": "code",
      "source": [
        "#4\n",
        "\"\"\"\n",
        "inputAmico = input(\"inserire amico: \")\n",
        "\n",
        "for i in cassaComune:\n",
        "  if i == inputAmico:\n",
        "    print(i,sorted(cassaComune[i]))\n",
        "  \n",
        "  else:\n",
        "    print(\"amico non esiste\")  \n",
        "\n",
        "\"\"\"\n",
        "nc = input(\"inserire uno deglia amici: \")\n",
        "\n",
        "if nc in cassaComune:\n",
        "  print(nc,\":\", sorted(cassaComune[nc]))\n",
        "else:\n",
        "    print(\"nome non presente tra gli amici\")"
      ],
      "metadata": {
        "id": "9SmJGQ3IFlko"
      },
      "execution_count": null,
      "outputs": []
    },
    {
      "cell_type": "code",
      "source": [
        "#5\n",
        "cassaComune.pop(\"Andrea\")\n",
        "print(cassaComune)\n",
        "\n",
        "del cassaComune[\"Andrea\"]"
      ],
      "metadata": {
        "id": "iGEt_IxRGwqY"
      },
      "execution_count": null,
      "outputs": []
    },
    {
      "cell_type": "code",
      "source": [
        "#1\n",
        "import random\n",
        "randomList = [random.randint(1,20) for _ in range(100)]\n",
        "randomList"
      ],
      "metadata": {
        "id": "AP4Qy5mVHzm3"
      },
      "execution_count": null,
      "outputs": []
    },
    {
      "cell_type": "code",
      "source": [
        "#2\n",
        "ripetizioni = {}"
      ],
      "metadata": {
        "id": "yHE4JRDQTH8_"
      },
      "execution_count": null,
      "outputs": []
    },
    {
      "cell_type": "code",
      "source": [
        "#3\n",
        "ripetizioni = {i:randomList.count(i) for i in randomList}\n",
        "\n",
        "print(ripetizioni)"
      ],
      "metadata": {
        "id": "IVeU3dhCU6i0"
      },
      "execution_count": null,
      "outputs": []
    }
  ]
}