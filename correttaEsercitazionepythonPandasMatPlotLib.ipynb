{
  "nbformat": 4,
  "nbformat_minor": 0,
  "metadata": {
    "colab": {
      "private_outputs": true,
      "provenance": [],
      "include_colab_link": true
    },
    "kernelspec": {
      "name": "python3",
      "display_name": "Python 3"
    },
    "language_info": {
      "name": "python"
    }
  },
  "cells": [
    {
      "cell_type": "markdown",
      "metadata": {
        "id": "view-in-github",
        "colab_type": "text"
      },
      "source": [
        "<a href=\"https://colab.research.google.com/github/Muhammadrafy06/python/blob/main/correttaEsercitazionepythonPandasMatPlotLib.ipynb\" target=\"_parent\"><img src=\"https://colab.research.google.com/assets/colab-badge.svg\" alt=\"Open In Colab\"/></a>"
      ]
    },
    {
      "cell_type": "code",
      "execution_count": null,
      "metadata": {
        "id": "72D7zgWqjOBW"
      },
      "outputs": [],
      "source": [
        "import pandas as pd\n",
        "from google.colab import drive\n",
        "drive.mount('/content/drive')"
      ]
    },
    {
      "cell_type": "code",
      "source": [
        "df = pd.read_csv(\"https://raw.githubusercontent.com/italia/covid19-opendata-vaccini/master/dati/consegne-vaccini-latest.csv\")\n",
        "df"
      ],
      "metadata": {
        "id": "OPd8919YjrOm"
      },
      "execution_count": null,
      "outputs": []
    },
    {
      "cell_type": "markdown",
      "source": [
        "1. visualizzare il numero totale di record presenti nel file\n",
        "\n"
      ],
      "metadata": {
        "id": "PUJZnm5Bjtpq"
      }
    },
    {
      "cell_type": "code",
      "source": [
        "len(df)\n",
        "df.count()[\"reg\"]"
      ],
      "metadata": {
        "id": "4QhNzrx9juju"
      },
      "execution_count": null,
      "outputs": []
    },
    {
      "cell_type": "markdown",
      "source": [
        "2. visualizzare il numero di record presenti relativi ad una regione inserita dall'utente\n"
      ],
      "metadata": {
        "id": "8RYX19GekJe2"
      }
    },
    {
      "cell_type": "code",
      "source": [
        "regioneInput = str(input(\"inserire regione: \"))\n",
        "df[df[\"reg\"] == regioneInput].count()[\"reg\"]"
      ],
      "metadata": {
        "id": "HX1w5b8skJw6"
      },
      "execution_count": null,
      "outputs": []
    },
    {
      "cell_type": "markdown",
      "source": [
        "3. modificare l'esercizio precedente per rispondere con un messaggio appropriato se la regione non è presente\n"
      ],
      "metadata": {
        "id": "IMxQK5HolBjb"
      }
    },
    {
      "cell_type": "code",
      "source": [
        "regioneInput = str(input(\"inserire regione: \"))\n",
        "if ((df['reg'] == regioneInput)).any():\n",
        "  print(\"si\")\n",
        "else:\n",
        "  print(\"no\")\n"
      ],
      "metadata": {
        "id": "ewLS0r70lCyU"
      },
      "execution_count": null,
      "outputs": []
    },
    {
      "cell_type": "code",
      "source": [
        "regioneInput = str(input(\"inserire regione: \"))\n",
        "if regioneInput not in set(df[\"reg\"]):\n",
        "  print(\"la regione non esiste\")\n",
        "else:\n",
        "  print(\"la regione esiste\")"
      ],
      "metadata": {
        "id": "UTzHAv1v_wkA"
      },
      "execution_count": null,
      "outputs": []
    },
    {
      "cell_type": "markdown",
      "source": [
        "4. visualizzare il numero totale di vaccini consegnati in una regione inserita dall'utente\n"
      ],
      "metadata": {
        "id": "C6ydawuTmMdZ"
      }
    },
    {
      "cell_type": "code",
      "source": [
        "vacciniTotaliInput = str(input(\"inserire regione: \"))\n",
        "df[df[\"reg\"] == vacciniTotaliInput][\"numero_dosi\"].sum()\n",
        "#usare il groupby() quando si dice per ogni, con ogni"
      ],
      "metadata": {
        "id": "K81xrLGKmNnZ"
      },
      "execution_count": null,
      "outputs": []
    },
    {
      "cell_type": "markdown",
      "source": [
        "5. visualizzare il numero totale di vaccini per ogni fornitore\n"
      ],
      "metadata": {
        "id": "b44ktW_gm3mn"
      }
    },
    {
      "cell_type": "code",
      "source": [
        "df2 = df.groupby(\"forn\").sum()[[\"numero_dosi\"]].sort_values(by = \"numero_dosi\", ascending = False)\n"
      ],
      "metadata": {
        "id": "QMu-Q4rsm4xm"
      },
      "execution_count": null,
      "outputs": []
    },
    {
      "cell_type": "markdown",
      "source": [
        "6. visualizzare il numero di vaccini per ogni fornitore di una regione inserita dall'utente. Ordinare in ordine\n",
        "decrescente sul numero di vaccini"
      ],
      "metadata": {
        "id": "tg3MOomTrQPz"
      }
    },
    {
      "cell_type": "code",
      "source": [
        "inputFornitore = str(input(\"inserire fornitore: \"))\n",
        "df[df.reg == inputFornitore].groupby(\"forn\").sum()[[\"numero_dosi\"]].sort_values(by=[\"numero_dosi\"], ascending=False)"
      ],
      "metadata": {
        "id": "MVw1DvzurSot"
      },
      "execution_count": null,
      "outputs": []
    },
    {
      "cell_type": "markdown",
      "source": [
        "7. visualizzare le informazioni dell'esercizio 6 con un grafico a barre verticali e uno a barre orizzontali. Indicare in modo appropriato il titolo, la legenda e le informazioni presenti negli assi\n"
      ],
      "metadata": {
        "id": "h7vmTUHGv_UA"
      }
    },
    {
      "cell_type": "code",
      "source": [
        "from matplotlib import pyplot as plt\n",
        "from collections import Counter\n",
        "import numpy as np\n",
        "\n",
        "\n",
        "fornitore = df[\"forn\"]\n",
        "dosi = df[\"numero_dosi\"]\n",
        "\n",
        "fig, ax = plt.subplots(figsize=(15,8))\n",
        "ax.bar(fornitore, dosi, label='totale vaccinati in ogni regione')\n",
        "ax.set_title(\"Titolo\")\n",
        "ax.set_xlabel(\"assi delle x\")\n",
        "ax.set_ylabel(\"assi delle y\")\n",
        "plt.setp(ax.get_xticklabels(), rotation=60, horizontalalignment='right')\n",
        "plt.savefig('istogramma.png')\n",
        "files.download(\"istogramma.png\") "
      ],
      "metadata": {
        "id": "OywZF9BawDUw"
      },
      "execution_count": null,
      "outputs": []
    },
    {
      "cell_type": "code",
      "source": [
        "fig, ax = plt.subplots(figsize=(15,8))\n",
        "ax.barh(fornitore, dosi, label='totale vaccinati in ogni regione')\n",
        "plt.savefig('istogrammaLat.png')\n",
        "files.download(\"istogrammaLat.png\") "
      ],
      "metadata": {
        "id": "Ep-XKaojxEEx"
      },
      "execution_count": null,
      "outputs": []
    },
    {
      "cell_type": "markdown",
      "source": [
        "8. visualizzare le informazioni dell'esercizio 6 con un grafico a torta\n"
      ],
      "metadata": {
        "id": "OJSWBdzpx4Cw"
      }
    },
    {
      "cell_type": "code",
      "source": [
        "\n",
        "fornitore = df[\"forn\"]\n",
        "dosi = df[\"numero_dosi\"]\n",
        "plt.figure(figsize=(16, 8))\n",
        "plt.pie(dosi, labels=fornitore, autopct='%1.1f%%')\n",
        "plt.savefig('graficoTorta.png')\n",
        "files.download(\"graficoTorta.png\") \n",
        "plt.show()\n"
      ],
      "metadata": {
        "id": "1JsFBte5x4j1"
      },
      "execution_count": null,
      "outputs": []
    },
    {
      "cell_type": "markdown",
      "source": [
        "9. visualizzare le informazioni dell'esercizio 6 con un grafico treemap (cercare su internet)\n"
      ],
      "metadata": {
        "id": "HlwlpR_Iy4wQ"
      }
    },
    {
      "cell_type": "code",
      "source": [
        "!pip install squarify"
      ],
      "metadata": {
        "id": "5FxHjcu2zc_f"
      },
      "execution_count": null,
      "outputs": []
    },
    {
      "cell_type": "code",
      "source": [
        "from google.colab import files\n",
        "import matplotlib.pyplot as plt\n",
        "import squarify    \n",
        "import pandas as pd\n",
        "squarify.plot(sizes=df2[\"numero_dosi\"], label=df2[\"forn\"], alpha=.8, color = [\"blue\", \"red\", \"yellow\"])\n",
        "plt.axis('off')\n",
        "plt.savefig('treemap.png')\n",
        "files.download(\"treemap.png\") \n",
        "plt.show()\n"
      ],
      "metadata": {
        "id": "flzgT_3Ay6Vt"
      },
      "execution_count": null,
      "outputs": []
    },
    {
      "cell_type": "markdown",
      "source": [
        "10. visualizzare i nomi delle tre regioni in cui sono stati consegnati più vaccini\n"
      ],
      "metadata": {
        "id": "NaWZpllx0Hz4"
      }
    },
    {
      "cell_type": "code",
      "source": [
        "df[:3][[\"reg\"]]\n",
        "#.drop(\"numero_dosi\", axis = 1)#colonna = 1 riga = 0"
      ],
      "metadata": {
        "id": "7HR9z1hL0Jsq"
      },
      "execution_count": null,
      "outputs": []
    },
    {
      "cell_type": "markdown",
      "source": [
        "11. visualizzare i nomi delle regioni in cui sono stati consegnati un numero di vaccini inferiore alla media dei vaccini consegnati nelle regioni\n"
      ],
      "metadata": {
        "id": "bfD5NnBP47rh"
      }
    },
    {
      "cell_type": "code",
      "source": [
        "df[df[\"numero_dosi\"] < df[\"numero_dosi\"].mean()][[\"reg\"]]"
      ],
      "metadata": {
        "id": "mujM-EWP47h0"
      },
      "execution_count": null,
      "outputs": []
    }
  ]
}